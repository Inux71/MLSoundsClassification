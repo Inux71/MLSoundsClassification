{
 "cells": [
  {
   "cell_type": "code",
   "execution_count": 1,
   "metadata": {},
   "outputs": [],
   "source": [
    "import pandas as pd\n",
    "import numpy as np\n",
    "from sklearn import preprocessing \n",
    "from sklearn.preprocessing import MinMaxScaler, StandardScaler\n",
    "from sklearn.neighbors import KNeighborsClassifier\n",
    "from sklearn.model_selection import cross_val_score, GridSearchCV\n",
    "from sklearn import svm"
   ]
  },
  {
   "cell_type": "code",
   "execution_count": 2,
   "metadata": {},
   "outputs": [
    {
     "data": {
      "text/html": [
       "<div>\n",
       "<style scoped>\n",
       "    .dataframe tbody tr th:only-of-type {\n",
       "        vertical-align: middle;\n",
       "    }\n",
       "\n",
       "    .dataframe tbody tr th {\n",
       "        vertical-align: top;\n",
       "    }\n",
       "\n",
       "    .dataframe thead th {\n",
       "        text-align: right;\n",
       "    }\n",
       "</style>\n",
       "<table border=\"1\" class=\"dataframe\">\n",
       "  <thead>\n",
       "    <tr style=\"text-align: right;\">\n",
       "      <th></th>\n",
       "      <th>class</th>\n",
       "      <th>fold</th>\n",
       "      <th>amplitude_envelope</th>\n",
       "      <th>root_mean_square</th>\n",
       "      <th>zero_crossing_rate</th>\n",
       "      <th>mfcc</th>\n",
       "      <th>spectral_centroid</th>\n",
       "      <th>bandwidth</th>\n",
       "    </tr>\n",
       "  </thead>\n",
       "  <tbody>\n",
       "    <tr>\n",
       "      <th>0</th>\n",
       "      <td>dog_bark</td>\n",
       "      <td>5</td>\n",
       "      <td>2.501107</td>\n",
       "      <td>0.859733</td>\n",
       "      <td>0.701485</td>\n",
       "      <td>1114.7451</td>\n",
       "      <td>11002.153867</td>\n",
       "      <td>9055.166227</td>\n",
       "    </tr>\n",
       "    <tr>\n",
       "      <th>1</th>\n",
       "      <td>children_playing</td>\n",
       "      <td>5</td>\n",
       "      <td>0.207636</td>\n",
       "      <td>0.076948</td>\n",
       "      <td>2.715422</td>\n",
       "      <td>5759.2744</td>\n",
       "      <td>38984.715069</td>\n",
       "      <td>35987.449939</td>\n",
       "    </tr>\n",
       "    <tr>\n",
       "      <th>2</th>\n",
       "      <td>children_playing</td>\n",
       "      <td>5</td>\n",
       "      <td>0.141984</td>\n",
       "      <td>0.056998</td>\n",
       "      <td>1.999477</td>\n",
       "      <td>6220.2430</td>\n",
       "      <td>33621.214468</td>\n",
       "      <td>35413.731359</td>\n",
       "    </tr>\n",
       "    <tr>\n",
       "      <th>3</th>\n",
       "      <td>children_playing</td>\n",
       "      <td>5</td>\n",
       "      <td>0.254567</td>\n",
       "      <td>0.092671</td>\n",
       "      <td>2.646289</td>\n",
       "      <td>5578.5050</td>\n",
       "      <td>41672.174391</td>\n",
       "      <td>41306.245923</td>\n",
       "    </tr>\n",
       "    <tr>\n",
       "      <th>4</th>\n",
       "      <td>children_playing</td>\n",
       "      <td>5</td>\n",
       "      <td>0.154707</td>\n",
       "      <td>0.060585</td>\n",
       "      <td>2.300883</td>\n",
       "      <td>6048.3857</td>\n",
       "      <td>36180.503459</td>\n",
       "      <td>35524.610921</td>\n",
       "    </tr>\n",
       "  </tbody>\n",
       "</table>\n",
       "</div>"
      ],
      "text/plain": [
       "              class  fold  amplitude_envelope  root_mean_square  \\\n",
       "0          dog_bark     5            2.501107          0.859733   \n",
       "1  children_playing     5            0.207636          0.076948   \n",
       "2  children_playing     5            0.141984          0.056998   \n",
       "3  children_playing     5            0.254567          0.092671   \n",
       "4  children_playing     5            0.154707          0.060585   \n",
       "\n",
       "   zero_crossing_rate       mfcc  spectral_centroid     bandwidth  \n",
       "0            0.701485  1114.7451       11002.153867   9055.166227  \n",
       "1            2.715422  5759.2744       38984.715069  35987.449939  \n",
       "2            1.999477  6220.2430       33621.214468  35413.731359  \n",
       "3            2.646289  5578.5050       41672.174391  41306.245923  \n",
       "4            2.300883  6048.3857       36180.503459  35524.610921  "
      ]
     },
     "execution_count": 2,
     "metadata": {},
     "output_type": "execute_result"
    }
   ],
   "source": [
    "data = pd.read_csv(\"features_data.csv\")\n",
    "data.head()"
   ]
  },
  {
   "cell_type": "code",
   "execution_count": 3,
   "metadata": {},
   "outputs": [],
   "source": [
    "label_encoder = preprocessing.LabelEncoder()"
   ]
  },
  {
   "cell_type": "markdown",
   "metadata": {},
   "source": [
    "### Encode category labels"
   ]
  },
  {
   "cell_type": "code",
   "execution_count": 4,
   "metadata": {},
   "outputs": [
    {
     "data": {
      "text/html": [
       "<div>\n",
       "<style scoped>\n",
       "    .dataframe tbody tr th:only-of-type {\n",
       "        vertical-align: middle;\n",
       "    }\n",
       "\n",
       "    .dataframe tbody tr th {\n",
       "        vertical-align: top;\n",
       "    }\n",
       "\n",
       "    .dataframe thead th {\n",
       "        text-align: right;\n",
       "    }\n",
       "</style>\n",
       "<table border=\"1\" class=\"dataframe\">\n",
       "  <thead>\n",
       "    <tr style=\"text-align: right;\">\n",
       "      <th></th>\n",
       "      <th>class</th>\n",
       "      <th>fold</th>\n",
       "      <th>amplitude_envelope</th>\n",
       "      <th>root_mean_square</th>\n",
       "      <th>zero_crossing_rate</th>\n",
       "      <th>mfcc</th>\n",
       "      <th>spectral_centroid</th>\n",
       "      <th>bandwidth</th>\n",
       "    </tr>\n",
       "  </thead>\n",
       "  <tbody>\n",
       "    <tr>\n",
       "      <th>0</th>\n",
       "      <td>3</td>\n",
       "      <td>5</td>\n",
       "      <td>2.501107</td>\n",
       "      <td>0.859733</td>\n",
       "      <td>0.701485</td>\n",
       "      <td>1114.7451</td>\n",
       "      <td>11002.153867</td>\n",
       "      <td>9055.166227</td>\n",
       "    </tr>\n",
       "    <tr>\n",
       "      <th>1</th>\n",
       "      <td>2</td>\n",
       "      <td>5</td>\n",
       "      <td>0.207636</td>\n",
       "      <td>0.076948</td>\n",
       "      <td>2.715422</td>\n",
       "      <td>5759.2744</td>\n",
       "      <td>38984.715069</td>\n",
       "      <td>35987.449939</td>\n",
       "    </tr>\n",
       "    <tr>\n",
       "      <th>2</th>\n",
       "      <td>2</td>\n",
       "      <td>5</td>\n",
       "      <td>0.141984</td>\n",
       "      <td>0.056998</td>\n",
       "      <td>1.999477</td>\n",
       "      <td>6220.2430</td>\n",
       "      <td>33621.214468</td>\n",
       "      <td>35413.731359</td>\n",
       "    </tr>\n",
       "    <tr>\n",
       "      <th>3</th>\n",
       "      <td>2</td>\n",
       "      <td>5</td>\n",
       "      <td>0.254567</td>\n",
       "      <td>0.092671</td>\n",
       "      <td>2.646289</td>\n",
       "      <td>5578.5050</td>\n",
       "      <td>41672.174391</td>\n",
       "      <td>41306.245923</td>\n",
       "    </tr>\n",
       "    <tr>\n",
       "      <th>4</th>\n",
       "      <td>2</td>\n",
       "      <td>5</td>\n",
       "      <td>0.154707</td>\n",
       "      <td>0.060585</td>\n",
       "      <td>2.300883</td>\n",
       "      <td>6048.3857</td>\n",
       "      <td>36180.503459</td>\n",
       "      <td>35524.610921</td>\n",
       "    </tr>\n",
       "  </tbody>\n",
       "</table>\n",
       "</div>"
      ],
      "text/plain": [
       "   class  fold  amplitude_envelope  root_mean_square  zero_crossing_rate  \\\n",
       "0      3     5            2.501107          0.859733            0.701485   \n",
       "1      2     5            0.207636          0.076948            2.715422   \n",
       "2      2     5            0.141984          0.056998            1.999477   \n",
       "3      2     5            0.254567          0.092671            2.646289   \n",
       "4      2     5            0.154707          0.060585            2.300883   \n",
       "\n",
       "        mfcc  spectral_centroid     bandwidth  \n",
       "0  1114.7451       11002.153867   9055.166227  \n",
       "1  5759.2744       38984.715069  35987.449939  \n",
       "2  6220.2430       33621.214468  35413.731359  \n",
       "3  5578.5050       41672.174391  41306.245923  \n",
       "4  6048.3857       36180.503459  35524.610921  "
      ]
     },
     "execution_count": 4,
     "metadata": {},
     "output_type": "execute_result"
    }
   ],
   "source": [
    "data['class'] = label_encoder.fit_transform(data['class'])\n",
    "data.head()"
   ]
  },
  {
   "cell_type": "code",
   "execution_count": 5,
   "metadata": {},
   "outputs": [],
   "source": [
    "X, y = data.iloc[:, 2:], data.iloc[:, 0]"
   ]
  },
  {
   "cell_type": "markdown",
   "metadata": {},
   "source": [
    "### Scale values"
   ]
  },
  {
   "cell_type": "code",
   "execution_count": 6,
   "metadata": {},
   "outputs": [
    {
     "data": {
      "text/html": [
       "<div>\n",
       "<style scoped>\n",
       "    .dataframe tbody tr th:only-of-type {\n",
       "        vertical-align: middle;\n",
       "    }\n",
       "\n",
       "    .dataframe tbody tr th {\n",
       "        vertical-align: top;\n",
       "    }\n",
       "\n",
       "    .dataframe thead th {\n",
       "        text-align: right;\n",
       "    }\n",
       "</style>\n",
       "<table border=\"1\" class=\"dataframe\">\n",
       "  <thead>\n",
       "    <tr style=\"text-align: right;\">\n",
       "      <th></th>\n",
       "      <th>amplitude_envelope</th>\n",
       "      <th>root_mean_square</th>\n",
       "      <th>zero_crossing_rate</th>\n",
       "      <th>mfcc</th>\n",
       "      <th>spectral_centroid</th>\n",
       "      <th>bandwidth</th>\n",
       "    </tr>\n",
       "  </thead>\n",
       "  <tbody>\n",
       "    <tr>\n",
       "      <th>0</th>\n",
       "      <td>0.132132</td>\n",
       "      <td>0.079255</td>\n",
       "      <td>0.046789</td>\n",
       "      <td>0.089087</td>\n",
       "      <td>0.063560</td>\n",
       "      <td>0.078529</td>\n",
       "    </tr>\n",
       "    <tr>\n",
       "      <th>1</th>\n",
       "      <td>0.010540</td>\n",
       "      <td>0.006809</td>\n",
       "      <td>0.190093</td>\n",
       "      <td>0.551544</td>\n",
       "      <td>0.295723</td>\n",
       "      <td>0.430702</td>\n",
       "    </tr>\n",
       "    <tr>\n",
       "      <th>2</th>\n",
       "      <td>0.007059</td>\n",
       "      <td>0.004963</td>\n",
       "      <td>0.139149</td>\n",
       "      <td>0.597443</td>\n",
       "      <td>0.251223</td>\n",
       "      <td>0.423200</td>\n",
       "    </tr>\n",
       "    <tr>\n",
       "      <th>3</th>\n",
       "      <td>0.013028</td>\n",
       "      <td>0.008264</td>\n",
       "      <td>0.185174</td>\n",
       "      <td>0.533545</td>\n",
       "      <td>0.318020</td>\n",
       "      <td>0.500252</td>\n",
       "    </tr>\n",
       "    <tr>\n",
       "      <th>4</th>\n",
       "      <td>0.007734</td>\n",
       "      <td>0.005295</td>\n",
       "      <td>0.160596</td>\n",
       "      <td>0.580331</td>\n",
       "      <td>0.272457</td>\n",
       "      <td>0.424650</td>\n",
       "    </tr>\n",
       "  </tbody>\n",
       "</table>\n",
       "</div>"
      ],
      "text/plain": [
       "   amplitude_envelope  root_mean_square  zero_crossing_rate      mfcc  \\\n",
       "0            0.132132          0.079255            0.046789  0.089087   \n",
       "1            0.010540          0.006809            0.190093  0.551544   \n",
       "2            0.007059          0.004963            0.139149  0.597443   \n",
       "3            0.013028          0.008264            0.185174  0.533545   \n",
       "4            0.007734          0.005295            0.160596  0.580331   \n",
       "\n",
       "   spectral_centroid  bandwidth  \n",
       "0           0.063560   0.078529  \n",
       "1           0.295723   0.430702  \n",
       "2           0.251223   0.423200  \n",
       "3           0.318020   0.500252  \n",
       "4           0.272457   0.424650  "
      ]
     },
     "execution_count": 6,
     "metadata": {},
     "output_type": "execute_result"
    }
   ],
   "source": [
    "scaler = MinMaxScaler().fit(X)\n",
    "X = pd.DataFrame(scaler.transform(X), columns=X.columns)\n",
    "X.head()"
   ]
  },
  {
   "cell_type": "markdown",
   "metadata": {},
   "source": [
    "### Create and fit the classifier"
   ]
  },
  {
   "cell_type": "code",
   "execution_count": 7,
   "metadata": {},
   "outputs": [
    {
     "data": {
      "text/plain": [
       "KNeighborsClassifier()"
      ]
     },
     "execution_count": 7,
     "metadata": {},
     "output_type": "execute_result"
    }
   ],
   "source": [
    "classifier = KNeighborsClassifier()\n",
    "classifier"
   ]
  },
  {
   "cell_type": "code",
   "execution_count": 8,
   "metadata": {},
   "outputs": [],
   "source": [
    "param_grid = { 'n_neighbors': np.arange(1, 20), 'weights': ['distance'] }"
   ]
  },
  {
   "cell_type": "code",
   "execution_count": 9,
   "metadata": {},
   "outputs": [
    {
     "data": {
      "text/plain": [
       "GridSearchCV(cv=10, estimator=KNeighborsClassifier(),\n",
       "             param_grid={'n_neighbors': array([ 1,  2,  3,  4,  5,  6,  7,  8,  9, 10, 11, 12, 13, 14, 15, 16, 17,\n",
       "       18, 19])})"
      ]
     },
     "execution_count": 9,
     "metadata": {},
     "output_type": "execute_result"
    }
   ],
   "source": [
    "classifier_gscv = GridSearchCV(classifier, param_grid, cv=10)\n",
    "classifier_gscv.fit(X, y)"
   ]
  },
  {
   "cell_type": "code",
   "execution_count": 10,
   "metadata": {},
   "outputs": [
    {
     "data": {
      "text/plain": [
       "{'n_neighbors': 15}"
      ]
     },
     "execution_count": 10,
     "metadata": {},
     "output_type": "execute_result"
    }
   ],
   "source": [
    "classifier_gscv.best_params_"
   ]
  },
  {
   "cell_type": "code",
   "execution_count": 11,
   "metadata": {},
   "outputs": [
    {
     "data": {
      "text/plain": [
       "0.41068018170332443"
      ]
     },
     "execution_count": 11,
     "metadata": {},
     "output_type": "execute_result"
    }
   ],
   "source": [
    "classifier_gscv.best_score_"
   ]
  },
  {
   "cell_type": "code",
   "execution_count": 12,
   "metadata": {},
   "outputs": [
    {
     "data": {
      "text/plain": [
       "0.4047284279726659"
      ]
     },
     "execution_count": 12,
     "metadata": {},
     "output_type": "execute_result"
    }
   ],
   "source": [
    "cv_scores = cross_val_score(classifier, X, y, cv = 10)\n",
    "cv_scores.mean()"
   ]
  }
 ],
 "metadata": {
  "interpreter": {
   "hash": "ad2bdc8ecc057115af97d19610ffacc2b4e99fae6737bb82f5d7fb13d2f2c186"
  },
  "kernelspec": {
   "display_name": "Python 3.9.7 ('base')",
   "language": "python",
   "name": "python3"
  },
  "language_info": {
   "codemirror_mode": {
    "name": "ipython",
    "version": 3
   },
   "file_extension": ".py",
   "mimetype": "text/x-python",
   "name": "python",
   "nbconvert_exporter": "python",
   "pygments_lexer": "ipython3",
   "version": "3.9.7"
  },
  "orig_nbformat": 4,
  "vscode": {
   "interpreter": {
    "hash": "776f41de3c35c4232e8cdffd7fe524836acd31342a15f9670dfe84d93d7eae81"
   }
  }
 },
 "nbformat": 4,
 "nbformat_minor": 2
}
