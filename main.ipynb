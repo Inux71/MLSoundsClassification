{
 "cells": [
  {
   "cell_type": "code",
   "execution_count": 10,
   "metadata": {},
   "outputs": [],
   "source": [
    "import pandas as pd\n",
    "import librosa \n",
    "import librosa.display\n",
    "import matplotlib.pyplot as plt\n",
    "import numpy as np\n",
    "from FeatureExtractor import FeatureExtractor\n",
    "from DataFrameFactory import DataFrameFactory\n",
    "from AudioDataLoader import AudioDataLoader"
   ]
  },
  {
   "cell_type": "code",
   "execution_count": 11,
   "metadata": {},
   "outputs": [],
   "source": [
    "%matplotlib inline"
   ]
  },
  {
   "cell_type": "code",
   "execution_count": 33,
   "metadata": {},
   "outputs": [],
   "source": [
    "FRAME_SIZE = 512\n",
    "HOP_LENGTH = 256"
   ]
  },
  {
   "cell_type": "code",
   "execution_count": 12,
   "metadata": {},
   "outputs": [],
   "source": [
    "sound_db = pd.read_csv('./db/UrbanSound8K.csv')"
   ]
  },
  {
   "cell_type": "code",
   "execution_count": 13,
   "metadata": {},
   "outputs": [
    {
     "name": "stdout",
     "output_type": "stream",
     "text": [
      "<class 'pandas.core.frame.DataFrame'>\n",
      "RangeIndex: 8732 entries, 0 to 8731\n",
      "Data columns (total 8 columns):\n",
      " #   Column           Non-Null Count  Dtype  \n",
      "---  ------           --------------  -----  \n",
      " 0   slice_file_name  8732 non-null   object \n",
      " 1   fsID             8732 non-null   int64  \n",
      " 2   start            8732 non-null   float64\n",
      " 3   end              8732 non-null   float64\n",
      " 4   salience         8732 non-null   int64  \n",
      " 5   fold             8732 non-null   int64  \n",
      " 6   classID          8732 non-null   int64  \n",
      " 7   class            8732 non-null   object \n",
      "dtypes: float64(2), int64(4), object(2)\n",
      "memory usage: 545.9+ KB\n"
     ]
    }
   ],
   "source": [
    "sound_db.info()"
   ]
  },
  {
   "cell_type": "code",
   "execution_count": 14,
   "metadata": {},
   "outputs": [
    {
     "data": {
      "text/html": [
       "<div>\n",
       "<style scoped>\n",
       "    .dataframe tbody tr th:only-of-type {\n",
       "        vertical-align: middle;\n",
       "    }\n",
       "\n",
       "    .dataframe tbody tr th {\n",
       "        vertical-align: top;\n",
       "    }\n",
       "\n",
       "    .dataframe thead th {\n",
       "        text-align: right;\n",
       "    }\n",
       "</style>\n",
       "<table border=\"1\" class=\"dataframe\">\n",
       "  <thead>\n",
       "    <tr style=\"text-align: right;\">\n",
       "      <th></th>\n",
       "      <th>fsID</th>\n",
       "      <th>start</th>\n",
       "      <th>end</th>\n",
       "      <th>salience</th>\n",
       "      <th>fold</th>\n",
       "      <th>classID</th>\n",
       "    </tr>\n",
       "  </thead>\n",
       "  <tbody>\n",
       "    <tr>\n",
       "      <th>count</th>\n",
       "      <td>8732.000000</td>\n",
       "      <td>8732.000000</td>\n",
       "      <td>8732.000000</td>\n",
       "      <td>8732.000000</td>\n",
       "      <td>8732.000000</td>\n",
       "      <td>8732.000000</td>\n",
       "    </tr>\n",
       "    <tr>\n",
       "      <th>mean</th>\n",
       "      <td>116033.493816</td>\n",
       "      <td>38.645409</td>\n",
       "      <td>42.253312</td>\n",
       "      <td>1.347000</td>\n",
       "      <td>5.385937</td>\n",
       "      <td>4.592877</td>\n",
       "    </tr>\n",
       "    <tr>\n",
       "      <th>std</th>\n",
       "      <td>57991.017218</td>\n",
       "      <td>74.292126</td>\n",
       "      <td>74.369669</td>\n",
       "      <td>0.476043</td>\n",
       "      <td>2.846820</td>\n",
       "      <td>2.894544</td>\n",
       "    </tr>\n",
       "    <tr>\n",
       "      <th>min</th>\n",
       "      <td>344.000000</td>\n",
       "      <td>0.000000</td>\n",
       "      <td>0.105962</td>\n",
       "      <td>1.000000</td>\n",
       "      <td>1.000000</td>\n",
       "      <td>0.000000</td>\n",
       "    </tr>\n",
       "    <tr>\n",
       "      <th>25%</th>\n",
       "      <td>69942.250000</td>\n",
       "      <td>3.000000</td>\n",
       "      <td>6.839398</td>\n",
       "      <td>1.000000</td>\n",
       "      <td>3.000000</td>\n",
       "      <td>2.000000</td>\n",
       "    </tr>\n",
       "    <tr>\n",
       "      <th>50%</th>\n",
       "      <td>118279.000000</td>\n",
       "      <td>10.376492</td>\n",
       "      <td>14.000000</td>\n",
       "      <td>1.000000</td>\n",
       "      <td>5.000000</td>\n",
       "      <td>4.000000</td>\n",
       "    </tr>\n",
       "    <tr>\n",
       "      <th>75%</th>\n",
       "      <td>166942.000000</td>\n",
       "      <td>35.131372</td>\n",
       "      <td>38.866979</td>\n",
       "      <td>2.000000</td>\n",
       "      <td>8.000000</td>\n",
       "      <td>7.000000</td>\n",
       "    </tr>\n",
       "    <tr>\n",
       "      <th>max</th>\n",
       "      <td>209992.000000</td>\n",
       "      <td>600.125356</td>\n",
       "      <td>604.125356</td>\n",
       "      <td>2.000000</td>\n",
       "      <td>10.000000</td>\n",
       "      <td>9.000000</td>\n",
       "    </tr>\n",
       "  </tbody>\n",
       "</table>\n",
       "</div>"
      ],
      "text/plain": [
       "                fsID        start          end     salience         fold  \\\n",
       "count    8732.000000  8732.000000  8732.000000  8732.000000  8732.000000   \n",
       "mean   116033.493816    38.645409    42.253312     1.347000     5.385937   \n",
       "std     57991.017218    74.292126    74.369669     0.476043     2.846820   \n",
       "min       344.000000     0.000000     0.105962     1.000000     1.000000   \n",
       "25%     69942.250000     3.000000     6.839398     1.000000     3.000000   \n",
       "50%    118279.000000    10.376492    14.000000     1.000000     5.000000   \n",
       "75%    166942.000000    35.131372    38.866979     2.000000     8.000000   \n",
       "max    209992.000000   600.125356   604.125356     2.000000    10.000000   \n",
       "\n",
       "           classID  \n",
       "count  8732.000000  \n",
       "mean      4.592877  \n",
       "std       2.894544  \n",
       "min       0.000000  \n",
       "25%       2.000000  \n",
       "50%       4.000000  \n",
       "75%       7.000000  \n",
       "max       9.000000  "
      ]
     },
     "execution_count": 14,
     "metadata": {},
     "output_type": "execute_result"
    }
   ],
   "source": [
    "sound_db.describe()"
   ]
  },
  {
   "cell_type": "code",
   "execution_count": 15,
   "metadata": {},
   "outputs": [
    {
     "data": {
      "text/html": [
       "<div>\n",
       "<style scoped>\n",
       "    .dataframe tbody tr th:only-of-type {\n",
       "        vertical-align: middle;\n",
       "    }\n",
       "\n",
       "    .dataframe tbody tr th {\n",
       "        vertical-align: top;\n",
       "    }\n",
       "\n",
       "    .dataframe thead th {\n",
       "        text-align: right;\n",
       "    }\n",
       "</style>\n",
       "<table border=\"1\" class=\"dataframe\">\n",
       "  <thead>\n",
       "    <tr style=\"text-align: right;\">\n",
       "      <th></th>\n",
       "      <th>slice_file_name</th>\n",
       "      <th>fsID</th>\n",
       "      <th>start</th>\n",
       "      <th>end</th>\n",
       "      <th>salience</th>\n",
       "      <th>fold</th>\n",
       "      <th>classID</th>\n",
       "      <th>class</th>\n",
       "    </tr>\n",
       "  </thead>\n",
       "  <tbody>\n",
       "    <tr>\n",
       "      <th>0</th>\n",
       "      <td>100032-3-0-0.wav</td>\n",
       "      <td>100032</td>\n",
       "      <td>0.0</td>\n",
       "      <td>0.317551</td>\n",
       "      <td>1</td>\n",
       "      <td>5</td>\n",
       "      <td>3</td>\n",
       "      <td>dog_bark</td>\n",
       "    </tr>\n",
       "    <tr>\n",
       "      <th>1</th>\n",
       "      <td>100263-2-0-117.wav</td>\n",
       "      <td>100263</td>\n",
       "      <td>58.5</td>\n",
       "      <td>62.500000</td>\n",
       "      <td>1</td>\n",
       "      <td>5</td>\n",
       "      <td>2</td>\n",
       "      <td>children_playing</td>\n",
       "    </tr>\n",
       "    <tr>\n",
       "      <th>2</th>\n",
       "      <td>100263-2-0-121.wav</td>\n",
       "      <td>100263</td>\n",
       "      <td>60.5</td>\n",
       "      <td>64.500000</td>\n",
       "      <td>1</td>\n",
       "      <td>5</td>\n",
       "      <td>2</td>\n",
       "      <td>children_playing</td>\n",
       "    </tr>\n",
       "    <tr>\n",
       "      <th>3</th>\n",
       "      <td>100263-2-0-126.wav</td>\n",
       "      <td>100263</td>\n",
       "      <td>63.0</td>\n",
       "      <td>67.000000</td>\n",
       "      <td>1</td>\n",
       "      <td>5</td>\n",
       "      <td>2</td>\n",
       "      <td>children_playing</td>\n",
       "    </tr>\n",
       "    <tr>\n",
       "      <th>4</th>\n",
       "      <td>100263-2-0-137.wav</td>\n",
       "      <td>100263</td>\n",
       "      <td>68.5</td>\n",
       "      <td>72.500000</td>\n",
       "      <td>1</td>\n",
       "      <td>5</td>\n",
       "      <td>2</td>\n",
       "      <td>children_playing</td>\n",
       "    </tr>\n",
       "  </tbody>\n",
       "</table>\n",
       "</div>"
      ],
      "text/plain": [
       "      slice_file_name    fsID  start        end  salience  fold  classID  \\\n",
       "0    100032-3-0-0.wav  100032    0.0   0.317551         1     5        3   \n",
       "1  100263-2-0-117.wav  100263   58.5  62.500000         1     5        2   \n",
       "2  100263-2-0-121.wav  100263   60.5  64.500000         1     5        2   \n",
       "3  100263-2-0-126.wav  100263   63.0  67.000000         1     5        2   \n",
       "4  100263-2-0-137.wav  100263   68.5  72.500000         1     5        2   \n",
       "\n",
       "              class  \n",
       "0          dog_bark  \n",
       "1  children_playing  \n",
       "2  children_playing  \n",
       "3  children_playing  \n",
       "4  children_playing  "
      ]
     },
     "execution_count": 15,
     "metadata": {},
     "output_type": "execute_result"
    }
   ],
   "source": [
    "sound_db.head()"
   ]
  },
  {
   "cell_type": "code",
   "execution_count": 16,
   "metadata": {},
   "outputs": [],
   "source": [
    "class FeatureExtractor:\n",
    "    @staticmethod\n",
    "    def amplitude_envelope(signal: np.ndarray, frame_size: int, hop_length: int) -> np.array:\n",
    "        ae = []\n",
    "        for i in range(0, len(signal), hop_length):\n",
    "            ae.append(max(signal[i:i + frame_size]))\n",
    "        return np.array(ae)\n",
    "\n",
    "    @staticmethod\n",
    "    def root_mean_square(signal: np.ndarray, frame_size: int, hop_size: int) -> np.array:\n",
    "        return librosa.feature.rms(y=signal, frame_length=frame_size, hop_length=hop_size)\n",
    "\n",
    "    @staticmethod\n",
    "    def normalize_feature(feature: np.ndarray) -> float:\n",
    "        return np.sqrt(np.sum(feature ** 2))"
   ]
  },
  {
   "cell_type": "code",
   "execution_count": 17,
   "metadata": {},
   "outputs": [],
   "source": [
    "class DataFrameFactory:\n",
    "    def __init__(self) -> None:\n",
    "        self.data_frame = pd.DataFrame()\n",
    "\n",
    "    def add_column(self, name: str):\n",
    "        self.data_frame[name] = None\n",
    "        return self\n",
    "\n",
    "    def build(self) -> pd.DataFrame:\n",
    "        return self.data_frame"
   ]
  },
  {
   "cell_type": "code",
   "execution_count": 50,
   "metadata": {},
   "outputs": [],
   "source": [
    "class AudioDataLoader:\n",
    "    def load_from_df(self, df: pd.DataFrame):\n",
    "        entries = []\n",
    "        for i in range(len(df)):\n",
    "            data = dict()\n",
    "            file_name, fold, class_ = df.iloc[i][[\"slice_file_name\", \"fold\", \"class\"]]\n",
    "            \n",
    "            if i < 10:\n",
    "                y, sr = librosa.load(f'./db/fold{fold}/{file_name}')\n",
    "                data['class'] = class_\n",
    "                data['fold'] = fold\n",
    "                data['amplitude_envelope'] = FeatureExtractor.normalize_feature(FeatureExtractor.amplitude_envelope(y, frame_size=FRAME_SIZE, hop_length=HOP_LENGTH))\n",
    "                \n",
    "                entries.append(data)\n",
    "        \n",
    "        return entries"
   ]
  },
  {
   "cell_type": "code",
   "execution_count": 52,
   "metadata": {},
   "outputs": [
    {
     "data": {
      "text/plain": [
       "[{'class': 'dog_bark', 'fold': 5, 'amplitude_envelope': 2.5011067},\n",
       " {'class': 'children_playing', 'fold': 5, 'amplitude_envelope': 0.20763576},\n",
       " {'class': 'children_playing', 'fold': 5, 'amplitude_envelope': 0.14198396},\n",
       " {'class': 'children_playing', 'fold': 5, 'amplitude_envelope': 0.2545674},\n",
       " {'class': 'children_playing', 'fold': 5, 'amplitude_envelope': 0.15470709},\n",
       " {'class': 'children_playing', 'fold': 5, 'amplitude_envelope': 0.17995471},\n",
       " {'class': 'children_playing', 'fold': 5, 'amplitude_envelope': 0.12388224},\n",
       " {'class': 'children_playing', 'fold': 5, 'amplitude_envelope': 0.13788542},\n",
       " {'class': 'children_playing', 'fold': 5, 'amplitude_envelope': 0.14960274},\n",
       " {'class': 'car_horn', 'fold': 10, 'amplitude_envelope': 0.889928}]"
      ]
     },
     "execution_count": 52,
     "metadata": {},
     "output_type": "execute_result"
    }
   ],
   "source": [
    "data_loader = AudioDataLoader()\n",
    "new_data_list = data_loader.load_from_df(sound_db)\n",
    "new_data_list"
   ]
  },
  {
   "cell_type": "code",
   "execution_count": null,
   "metadata": {},
   "outputs": [],
   "source": []
  }
 ],
 "metadata": {
  "interpreter": {
   "hash": "ad2bdc8ecc057115af97d19610ffacc2b4e99fae6737bb82f5d7fb13d2f2c186"
  },
  "kernelspec": {
   "display_name": "Python 3.9.7 ('base')",
   "language": "python",
   "name": "python3"
  },
  "language_info": {
   "codemirror_mode": {
    "name": "ipython",
    "version": 3
   },
   "file_extension": ".py",
   "mimetype": "text/x-python",
   "name": "python",
   "nbconvert_exporter": "python",
   "pygments_lexer": "ipython3",
   "version": "3.9.7"
  },
  "orig_nbformat": 4,
  "vscode": {
   "interpreter": {
    "hash": "776f41de3c35c4232e8cdffd7fe524836acd31342a15f9670dfe84d93d7eae81"
   }
  }
 },
 "nbformat": 4,
 "nbformat_minor": 2
}
